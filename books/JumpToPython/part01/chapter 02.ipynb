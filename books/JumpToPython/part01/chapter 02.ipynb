{
 "cells": [
  {
   "cell_type": "markdown",
   "id": "2d263946",
   "metadata": {},
   "source": [
    "# 문자열 포메팅"
   ]
  },
  {
   "cell_type": "code",
   "execution_count": 51,
   "id": "c0c9709c",
   "metadata": {},
   "outputs": [
    {
     "name": "stdout",
     "output_type": "stream",
     "text": [
      "I eat 3 apples.\n"
     ]
    }
   ],
   "source": [
    "# 숫자\n",
    "\"I eat %d apples.\" % 3\n",
    "print('I eat 3 apples.')"
   ]
  },
  {
   "cell_type": "code",
   "execution_count": 2,
   "id": "d7c96c07",
   "metadata": {},
   "outputs": [
    {
     "data": {
      "text/plain": [
       "' I eat five apples.'"
      ]
     },
     "execution_count": 2,
     "metadata": {},
     "output_type": "execute_result"
    }
   ],
   "source": [
    "# 문자열\n",
    "\" I eat %s apples.\" % \"five\""
   ]
  },
  {
   "cell_type": "code",
   "execution_count": 3,
   "id": "f6337d53",
   "metadata": {},
   "outputs": [
    {
     "data": {
      "text/plain": [
       "'I eat 3 apples.'"
      ]
     },
     "execution_count": 3,
     "metadata": {},
     "output_type": "execute_result"
    }
   ],
   "source": [
    "# 변수(숫자)\n",
    "number = 3\n",
    "\"I eat %d apples.\" % number"
   ]
  },
  {
   "cell_type": "code",
   "execution_count": 4,
   "id": "d2b7008a",
   "metadata": {},
   "outputs": [
    {
     "data": {
      "text/plain": [
       "'I ate 10 apples. so I was sick for three days.'"
      ]
     },
     "execution_count": 4,
     "metadata": {},
     "output_type": "execute_result"
    }
   ],
   "source": [
    "# 2개 이상의 값\n",
    "number = 10\n",
    "day = \"three\"\n",
    "\"I ate %d apples. so I was sick for %s days.\" % (number, day)"
   ]
  },
  {
   "cell_type": "markdown",
   "id": "3cc45c49",
   "metadata": {},
   "source": [
    "# 문자열 포맷 코드\n",
    "\n",
    "| 코드 | 설명     |\n",
    "| ---- | -------- |\n",
    "| `%s` | 문자열   |\n",
    "| `%c` | 문자     |\n",
    "| `%d` | 정수형   |\n",
    "| `%f` | 부동소수 |\n",
    "| `%o` | 8진법    |\n",
    "| `%x` | 16진법   |\n",
    "| `%%` | %        |\n",
    "\n"
   ]
  },
  {
   "cell_type": "code",
   "execution_count": 5,
   "id": "6a942f45",
   "metadata": {},
   "outputs": [
    {
     "data": {
      "text/plain": [
       "'I eat 3 apples.'"
      ]
     },
     "execution_count": 5,
     "metadata": {},
     "output_type": "execute_result"
    }
   ],
   "source": [
    "# 정수를 %s 출력하기\n",
    "\"I eat %s apples.\" % 3"
   ]
  },
  {
   "cell_type": "code",
   "execution_count": 6,
   "id": "ada8b19f",
   "metadata": {},
   "outputs": [
    {
     "data": {
      "text/plain": [
       "'I eat 3.234 apples.'"
      ]
     },
     "execution_count": 6,
     "metadata": {},
     "output_type": "execute_result"
    }
   ],
   "source": [
    "# 실수를 %s 출력하기\n",
    "\"I eat %s apples.\" % 3.234"
   ]
  },
  {
   "cell_type": "markdown",
   "id": "14020f70",
   "metadata": {},
   "source": [
    "# 포맷 코드와 숫자 함께 사용하기"
   ]
  },
  {
   "cell_type": "code",
   "execution_count": 7,
   "id": "c623a060",
   "metadata": {},
   "outputs": [
    {
     "data": {
      "text/plain": [
       "'        hi'"
      ]
     },
     "execution_count": 7,
     "metadata": {},
     "output_type": "execute_result"
    }
   ],
   "source": [
    "# 오른쪽으로 정렬\n",
    "\"%10s\" % \"hi\""
   ]
  },
  {
   "cell_type": "code",
   "execution_count": 9,
   "id": "9b737862",
   "metadata": {},
   "outputs": [
    {
     "data": {
      "text/plain": [
       "'hi        '"
      ]
     },
     "execution_count": 9,
     "metadata": {},
     "output_type": "execute_result"
    }
   ],
   "source": [
    "# 왼쪽으로 정렬\n",
    "\"%-10s\" % \"hi\""
   ]
  },
  {
   "cell_type": "code",
   "execution_count": 10,
   "id": "da624b54",
   "metadata": {},
   "outputs": [
    {
     "data": {
      "text/plain": [
       "'3.1413'"
      ]
     },
     "execution_count": 10,
     "metadata": {},
     "output_type": "execute_result"
    }
   ],
   "source": [
    "#소수점\n",
    "\"%0.4f\" % 3.14131519"
   ]
  },
  {
   "cell_type": "code",
   "execution_count": 12,
   "id": "65fbe789",
   "metadata": {},
   "outputs": [
    {
     "data": {
      "text/plain": [
       "'    3.1344'"
      ]
     },
     "execution_count": 12,
     "metadata": {},
     "output_type": "execute_result"
    }
   ],
   "source": [
    "#소수점이 오른쪽으로 정렬됨\n",
    "\"%10.4f\" % 3.134415123"
   ]
  },
  {
   "cell_type": "markdown",
   "id": "2f5da2dd",
   "metadata": {},
   "source": [
    "# format 함수를 사용한 포매팅"
   ]
  },
  {
   "cell_type": "code",
   "execution_count": 15,
   "id": "e91209d2",
   "metadata": {},
   "outputs": [
    {
     "data": {
      "text/plain": [
       "'I eat 3 apples.'"
      ]
     },
     "execution_count": 15,
     "metadata": {},
     "output_type": "execute_result"
    }
   ],
   "source": [
    "# 숫자\n",
    "\"I eat {0} apples.\".format(3)"
   ]
  },
  {
   "cell_type": "code",
   "execution_count": 16,
   "id": "ccf8a782",
   "metadata": {},
   "outputs": [
    {
     "data": {
      "text/plain": [
       "'I eat five apples'"
      ]
     },
     "execution_count": 16,
     "metadata": {},
     "output_type": "execute_result"
    }
   ],
   "source": [
    "# 문자\n",
    "\"I eat {0} apples\".format(\"five\")"
   ]
  },
  {
   "cell_type": "code",
   "execution_count": 17,
   "id": "29a1abc8",
   "metadata": {},
   "outputs": [
    {
     "data": {
      "text/plain": [
       "'I eat 10 apples'"
      ]
     },
     "execution_count": 17,
     "metadata": {},
     "output_type": "execute_result"
    }
   ],
   "source": [
    "# 변수(숫자)\n",
    "number = 10\n",
    "\"I eat {0} apples\".format(number)"
   ]
  },
  {
   "cell_type": "code",
   "execution_count": 19,
   "id": "068ba108",
   "metadata": {},
   "outputs": [
    {
     "data": {
      "text/plain": [
       "'I ate 10 apples. so I was sick for three days.'"
      ]
     },
     "execution_count": 19,
     "metadata": {},
     "output_type": "execute_result"
    }
   ],
   "source": [
    "# 2개 이상의 값\n",
    "number = 10\n",
    "day = \"three\"\n",
    "\"I ate {0} apples. so I was sick for {1} days.\".format(number, day)"
   ]
  },
  {
   "cell_type": "code",
   "execution_count": 21,
   "id": "931a19e0",
   "metadata": {},
   "outputs": [
    {
     "data": {
      "text/plain": [
       "'I ate 10 apples. so I was sick for three days.'"
      ]
     },
     "execution_count": 21,
     "metadata": {},
     "output_type": "execute_result"
    }
   ],
   "source": [
    "# 이름으로 넣기\n",
    "\"I ate {number} apples. so I was sick for {day} days.\".format(number=10, day=\"three\")"
   ]
  },
  {
   "cell_type": "code",
   "execution_count": 50,
   "id": "fda9f98d",
   "metadata": {},
   "outputs": [
    {
     "data": {
      "text/plain": [
       "['a', 'b', 'c', 'd']"
      ]
     },
     "execution_count": 50,
     "metadata": {},
     "output_type": "execute_result"
    }
   ],
   "source": [
    "a = \"hobby\"\n",
    "a.count('b') # 2\n",
    "\n",
    "a = \"Python is the best choice\"\n",
    "a.find('b') # 14\n",
    "a.find('k') # -1\n",
    "\n",
    "a = \"Life is too short\"\n",
    "a.index('t') # 8\n",
    "# a.index('k') # ValueError: substring not found \n",
    "\n",
    "\",\".join('abcd') # 'a,b,c,d'\n",
    "\",\".join(['a','b','c','d']) # 'a,b,c,d'\n",
    "\n",
    "a = \"hi\"\n",
    "a.upper() # 'HI'\n",
    "\n",
    "a = \"HI\"\n",
    "a.lower() # 'hi'\n",
    "\n",
    "a = \" hi \"\n",
    "a.lstrip() # 'hi '\n",
    "\n",
    "a = \" hi \"\n",
    "a.rstrip() # ' hi'\n",
    "\n",
    "a = \" hi \"\n",
    "a.strip() # 'hi'\n",
    "\n",
    "a = \"Life is too short\"\n",
    "a.replace(\"Life\", \"Your leg\") # 'Your leg is too short'\n",
    "\n",
    "a = \"Life is too short\"\n",
    "a.split() # ['Life', 'is', 'too', 'short']\n",
    "b = \"a:b:c:d\"\n",
    "b.split(':') # ['a', 'b', 'c', 'd']\n",
    "\n"
   ]
  },
  {
   "cell_type": "markdown",
   "id": "84ae0fad",
   "metadata": {},
   "source": [
    "# 리스트"
   ]
  },
  {
   "cell_type": "code",
   "execution_count": 131,
   "id": "bc626468",
   "metadata": {},
   "outputs": [
    {
     "data": {
      "text/plain": [
       "[1, 2, 3, 4, 5, 6, 7]"
      ]
     },
     "execution_count": 131,
     "metadata": {},
     "output_type": "execute_result"
    }
   ],
   "source": [
    "# 리스트 형태\n",
    "a = [] # []\n",
    "b = [1,2,3] # [1,2,3]\n",
    "c = ['Life', 'is', 'too', 'short'] # ['Life', 'is', 'too', 'short'] \n",
    "d = [1, 2, 'Life', 'is'] # [1, 2, 'Life', 'is']\n",
    "e = [1, 2, ['Life', 'is']] # [1, 2, ['Life', 'is']]\n",
    "\n",
    "# 리스트 인덱스1\n",
    "a = [1,2,3]\n",
    "a[0] # 1\n",
    "a[0] + a[2] # 4\n",
    "a[-1] # 3\n",
    "\n",
    "#리스트 인덱스2\n",
    "a = [1, 2, 3, ['a', 'b', 'c']]\n",
    "a[0] # 1\n",
    "a[3] # ['a', 'b', 'c']\n",
    "a[3][0] # 'a'\n",
    "a[-1][0] # 'a'\n",
    "a[-1][-1] # 'c'\n",
    "a[-1][1] # 'b'\n",
    "\n",
    "# 리스트 슬라이싱1\n",
    "a = [1, 2, 3, 4, 5]\n",
    "a[0:2] # [1, 2]\n",
    "\n",
    "# 문자열 슬라이싱\n",
    "a = \"12345\"\n",
    "a[0:2] # '12'\n",
    "# print(a[0:2]) # 12\n",
    "\n",
    "# 리스트 슬라이싱2\n",
    "a = [1, 2, 3, 4, 5]\n",
    "b = a[:2] # [1, 2]\n",
    "c = a[2:] # [3, 4, 5]\n",
    "\n",
    "# 리스트 슬라이싱3\n",
    "a = [1, 2, 3, ['a', 'b', 'c'], 4, 5]\n",
    "a[2:5] # [3, ['a', 'b', 'c'], 4]\n",
    "a[3][:2] # ['a', 'b']\n",
    "\n",
    "# 리스트 더하기\n",
    "a = [1, 2, 3]\n",
    "b = [4, 5, 6]\n",
    "a + b # [1, 2, 3, 4, 5, 6]\n",
    "\n",
    "# 리스트 곱하기\n",
    "a = [1, 2, 3]\n",
    "a * 3 # [1, 2, 3, 1, 2, 3, 1, 2, 3]\n",
    "\n",
    "# 리스트 길이\n",
    "a = [1, 2, 3]\n",
    "len(a) # 3\n",
    "\n",
    "# 문자열 + 리스트 더하기\n",
    "a = [1, 2, 3]\n",
    "# a[2] + \"hi\" # TypeError: unsupported operand type(s) for +: 'int' and 'str'\n",
    "str(a[2]) + \"hi\" # '3hi'\n",
    "\n",
    "# 리스트 수정\n",
    "a = [1, 2, 3]\n",
    "a[2] = 4\n",
    "a # [1 ,2 ,4]\n",
    "\n",
    "# 리스트 삭제1\n",
    "a = [1, 2, 3]\n",
    "del a[1] \n",
    "a #[1, 3]\n",
    "\n",
    "# 리스트 삭제2\n",
    "a = [1, 2, 3, 4, 5]\n",
    "del a[2:] \n",
    "a # [1, 2]\n",
    "\n",
    "# 리스트 요소 추가1\n",
    "a = [1, 2, 3]\n",
    "a.append(4)\n",
    "a # [1, 2, 3, 4]\n",
    "\n",
    "# 리스트 요소 추가2\n",
    "a = [1, 2, 3, 4]\n",
    "a.append([5, 6])\n",
    "a # [1, 2, 3, 4, [5, 6]]\n",
    "\n",
    "# 리스트 정렬(숫자)\n",
    "a = [1, 4, 3, 2]\n",
    "a.sort()\n",
    "a # [1, 2, 3, 4]\n",
    "\n",
    "# 리스트 정렬(문자)\n",
    "a = ['a', 'c', 'b']\n",
    "a.sort()\n",
    "a # ['a', 'b', 'c']\n",
    "\n",
    "# 리스트 뒤집기\n",
    "a = ['a', 'b', 'c']\n",
    "a.reverse()\n",
    "a # ['c', 'b', 'a']\n",
    "\n",
    "# 리스트 인덱스 반환\n",
    "a = [1, 2, 3]\n",
    "a.index(2) # 1\n",
    "# a.index(0) # ValueError: 0 is not in list\n",
    "\n",
    "# 리스트 요소 삽입1\n",
    "a = [1, 2, 3]\n",
    "a.insert(0, 4)\n",
    "a  # [4, 1, 2, 3]\n",
    "\n",
    "# 리스트 요소 삽입2\n",
    "a = [1, 2, 3]\n",
    "a.insert(3, 4)\n",
    "a  # [1, 2, 3, 4]\n",
    "\n",
    "# 리스트 요소 제거\n",
    "a = [1, 2, 3, 1, 2, 3]\n",
    "a.remove(3)\n",
    "a # [1, 2, 1, 2, 3]\n",
    "a.remove(3)\n",
    "a # [1, 2, 1, 2]\n",
    "\n",
    "# 리스트 요소 제거\n",
    "a = [1, 2, 3]\n",
    "a.pop() # 3\n",
    "a # [1, 2]\n",
    "\n",
    "# 리스트 요소 개수 세기\n",
    "a = [1, 2, 3, 1]\n",
    "a.count(1) # 2\n",
    "\n",
    "# 리스트 확장\n",
    "a = [1, 2, 3]\n",
    "a.extend([4, 5])\n",
    "a # [1, 2, 3, 4, 5]\n",
    "b = [6, 7]\n",
    "a.extend(b)\n",
    "a # [1, 2, 3, 4, 5, 6, 7]\n",
    "\n",
    "a = [1, 2, 3]\n",
    "a += [4, 5]\n",
    "a # [1, 2, 3, 4, 5]\n",
    "b = [6, 7]\n",
    "a += b\n",
    "a # [1, 2, 3, 4, 5, 6, 7]"
   ]
  },
  {
   "cell_type": "markdown",
   "id": "9b953e26",
   "metadata": {},
   "source": [
    "# 튜플"
   ]
  },
  {
   "cell_type": "code",
   "execution_count": 152,
   "id": "88f57e82",
   "metadata": {},
   "outputs": [
    {
     "data": {
      "text/plain": [
       "4"
      ]
     },
     "execution_count": 152,
     "metadata": {},
     "output_type": "execute_result"
    }
   ],
   "source": [
    "# 튜플\n",
    "t1 = () # ()\n",
    "t2 = (1,) # (1,)\n",
    "t3 = (1, 2, 3) # (1, 2, 3)\n",
    "t4 = 1, 2, 3 # (1, 2, 3)\n",
    "t5 = ('a', 'b', ('ab', 'cd')) # ('a', 'b', ('ab', 'cd'))\n",
    "\n",
    "# 튜플 요소 삭제는 오류 발생\n",
    "t1 = (1, 2, 'a', 'b')\n",
    "# del t1[0] # TypeError: 'tuple' object doesn't support item deletion\n",
    "\n",
    "# 튜플 요소 변경은 오류 발생\n",
    "t1 = (1, 2, 'a', 'b')\n",
    "# t1[0] = 'c'# TypeError: 'tuple' object doesn't support item deletion\n",
    "\n",
    "# 튜플 인덱싱\n",
    "t1 = (1, 2, 'a', 'b')\n",
    "t1[0] # 1\n",
    "t1[3] # 'b'\n",
    "\n",
    "# 튜플 슬라이싱\n",
    "t1 = (1, 2, 'a', 'b')\n",
    "t1[1:] # (2, 'a', 'b')\n",
    "\n",
    "# 튜플 더하기\n",
    "t1 = (1, 2, 'a', 'b')\n",
    "t2 = (3, 4)\n",
    "t3 = t1 + t2\n",
    "t3 # (1, 2, 'a', 'b', 3, 4)\n",
    "\n",
    "# 튜플 곱하기\n",
    "t2 = (3, 4)\n",
    "t3 = t2 * 3\n",
    "t3 # (3, 4, 3, 4, 3, 4)\n",
    "\n",
    "# 튜플 길이 구하기\n",
    "t1 = (1, 2, 'a', 'b')\n",
    "len(t1)  # 4"
   ]
  },
  {
   "cell_type": "markdown",
   "id": "67009ce1",
   "metadata": {},
   "source": [
    "# 딕셔너리 자료형"
   ]
  },
  {
   "cell_type": "code",
   "execution_count": 202,
   "id": "072b6ad9",
   "metadata": {
    "scrolled": true
   },
   "outputs": [
    {
     "data": {
      "text/plain": [
       "{1, 2, 3}"
      ]
     },
     "execution_count": 202,
     "metadata": {},
     "output_type": "execute_result"
    }
   ],
   "source": [
    "# 딕셔너리\n",
    "dic = {'name' : 'pey', 'phone' : '010-9999-1234', 'birth' : '1118'}\n",
    "dic # {'name': 'pey', 'phone': '010-9999-1234', 'birth': '1118'}\n",
    "a = {1:'hi'}\n",
    "a # {1:'hi'}\n",
    "a = {'a' : [1, 2, 3]}\n",
    "a # {'a': [1, 2, 3]}\n",
    "\n",
    "# 딕셔너리 쌍 추가하기\n",
    "a = {1 : 'a'}\n",
    "a[2] = 'b'\n",
    "a # {1: 'a', 2: 'b'}\n",
    "a['name']='pey'\n",
    "a # {1: 'a', 2: 'b', 'name': 'pey'}\n",
    "a[3] = [1, 2, 3]\n",
    "a # {1: 'a', 2: 'b', 'name': 'pey', 3: [1, 2, 3]}\n",
    "\n",
    "# 딕셔너리 요소 삭제하기\n",
    "del a[1]\n",
    "a # {2: 'b', 'name': 'pey', 3: [1, 2, 3]}\n",
    "\n",
    "# 딕셔너리 Key를 사용해 Value 얻기1\n",
    "grade = {'pey':10, 'julliet':99}\n",
    "grade['pey'] # 10\n",
    "grade['julliet'] # 99\n",
    "\n",
    "# 딕셔너리 Key를 사용해 Value 얻기2\n",
    "a = {1:'a', 2:'b'}\n",
    "a[1] # 'a'\n",
    "a[2] # 'b'\n",
    "\n",
    "# 딕셔너리 Key를 사용해 Value 얻기3\n",
    "a = {'a':1, 'b':2}\n",
    "a['a'] # 1\n",
    "a['b'] # 2\n",
    "\n",
    "# 딕셔너리 Key를 사용해 Value 얻기4\n",
    "dic = {'name' : 'pey', 'phone' : '010-9999-1234', 'birth' : '1118'}\n",
    "dic['name'] # 'pey'\n",
    "dic['phone'] # '010-9999-1234'\n",
    "dic['birth'] # '1118'\n",
    "\n",
    "# 딕셔너리 주의사항\n",
    "a = {1:'a', 1:'b'}\n",
    "a # {1: 'b'}\n",
    "\n",
    "# a = {[1, 2] : 'hi'} # TypeError: unhashable type: 'list'\n",
    "\n",
    "# Key 리스트 만들기\n",
    "a = {'name' : 'pey', 'phone' : '010-9999-1234', 'birth' : '1118'}\n",
    "a.keys() # dict_keys(['name', 'phone', 'birth'])\n",
    "# print(a.keys()) # dict_keys(['name', 'phone', 'birth'])\n",
    "\n",
    "# key 리스트 출력1\n",
    "# for k in a.keys():\n",
    "#     print(k)\n",
    "# name\n",
    "# phone\n",
    "# birth\n",
    "\n",
    "# key 리스트 출력2\n",
    "list(a.keys()) # ['name', 'phone', 'birth']\n",
    "\n",
    "# Value 리스트 만들기\n",
    "a.values() # dict_values(['pey', '010-9999-1234', '1118'])\n",
    "\n",
    "# Key, Value 쌍 얻기\n",
    "a.items() # dict_items([('name', 'pey'), ('phone', '010-9999-1234'), ('birth', '1118')])\n",
    "\n",
    "# Key:Value 쌍 모두 지우기\n",
    "a.clear()\n",
    "a # {}\n",
    "\n",
    "# Key로 Value 얻기1\n",
    "a = {'name' : 'pey', 'phone' : '010-9999-1234', 'birth' : '1118'}\n",
    "a.get('name') # 'pey'\n",
    "a.get('phone') # '010-9999-1234'\n",
    "\n",
    "# Key로 Value 얻기2\n",
    "a = {'name' : 'pey', 'phone' : '010-9999-1234', 'birth' : '1118'}\n",
    "# print(a.get('nokey')) # None\n",
    "# a.get('nokey', 'foo') # 'foo'\n",
    "# print(a.get('nokey', 'foo')) # foo\n",
    "# print(a['nokey']) # KeyError: 'nokey'\n",
    "\n",
    "# Key가 딕셔너리 안에 있는지 조사하기\n",
    "a = {'name' : 'pey', 'phone' : '010-9999-1234', 'birth' : '1118'}\n",
    "'name' in a # True\n",
    "'email' in a # False"
   ]
  },
  {
   "cell_type": "markdown",
   "id": "2dd4628a",
   "metadata": {},
   "source": [
    "# 집합 자료형"
   ]
  },
  {
   "cell_type": "code",
   "execution_count": 228,
   "id": "95181632",
   "metadata": {},
   "outputs": [
    {
     "data": {
      "text/plain": [
       "{1, 3}"
      ]
     },
     "execution_count": 228,
     "metadata": {},
     "output_type": "execute_result"
    }
   ],
   "source": [
    "# 집합\n",
    "s1 = set([1, 2, 3])\n",
    "s1 # {1, 2, 3}\n",
    "\n",
    "s2 = set(\"Hello\")\n",
    "s2 # {'H', 'e', 'l', 'o'}\n",
    "\n",
    "# 리스트로 변환\n",
    "s1  = set([1, 2, 3])\n",
    "l1 = list(s1) \n",
    "l1 # [1, 2, 3]\n",
    "l1[0] # 1\n",
    "\n",
    "# 튜플로 변환\n",
    "t1 = tuple(s1)\n",
    "t1 # (1, 2, 3)\n",
    "t1[0] # 1\n",
    "\n",
    "\n",
    "\n",
    "s1 = set([1, 2, 3, 4, 5, 6])\n",
    "s2 = set([4, 5, 6, 7, 8, 9])\n",
    "\n",
    "# 교집합\n",
    "s1 & s2 # {4, 5, 6}\n",
    "s1.intersection(s2) # {4, 5, 6}\n",
    "\n",
    "# 합집합\n",
    "s1 | s2 # {1, 2, 3, 4, 5, 6, 7, 8, 9}\n",
    "s1.union(s2) # {1, 2, 3, 4, 5, 6, 7, 8, 9}\n",
    "\n",
    "# 차집합\n",
    "s1 - s2 # {1, 2, 3}\n",
    "s2 - s1 # {7, 8, 9}\n",
    "s1.difference(s2) # {1, 2, 3}\n",
    "s2.difference(s1) # {7, 8, 9}\n",
    "\n",
    "# 집합 요소 추가하기\n",
    "s1 = set([1, 2, 3])\n",
    "s1.add(4)\n",
    "s1 # {1, 2, 3, 4}\n",
    "\n",
    "# 집합 요소 더하기\n",
    "s1 = set([1, 2, 3])\n",
    "s1.update([4, 5, 6])\n",
    "s1 # {1, 2, 3, 4, 5, 6}\n",
    "\n",
    "# 집합 요소 삭제하기\n",
    "s1 = set([1, 2, 3])\n",
    "s1.remove(2)\n",
    "s1 # {1, 3}"
   ]
  },
  {
   "cell_type": "markdown",
   "id": "f2b5c3f6",
   "metadata": {},
   "source": [
    "# 불 자료형"
   ]
  },
  {
   "cell_type": "code",
   "execution_count": 233,
   "id": "eed7b00f",
   "metadata": {},
   "outputs": [
    {
     "data": {
      "text/plain": [
       "False"
      ]
     },
     "execution_count": 233,
     "metadata": {},
     "output_type": "execute_result"
    }
   ],
   "source": [
    "# 불 자료형\n",
    "a = True\n",
    "b = False\n",
    "\n",
    "type(a) # bool\n",
    "type(b) # bool\n",
    "\n",
    "1 == 1 # True\n",
    "2 > 1 # True\n",
    "2 < 1 # False\n",
    "\n",
    "bool('python') # True\n",
    "bool('') # False\n",
    "bool([]) # False\n",
    "bool(0) # False\n",
    "bool(3) # True"
   ]
  },
  {
   "cell_type": "code",
   "execution_count": 234,
   "id": "ec0f8ad6",
   "metadata": {},
   "outputs": [
    {
     "name": "stdout",
     "output_type": "stream",
     "text": [
      "4\n",
      "3\n",
      "2\n",
      "1\n"
     ]
    }
   ],
   "source": [
    "a = [1, 2, 3, 4]\n",
    "while a:\n",
    "    print(a.pop())"
   ]
  },
  {
   "cell_type": "code",
   "execution_count": 236,
   "id": "2ffe5bed",
   "metadata": {},
   "outputs": [
    {
     "name": "stdout",
     "output_type": "stream",
     "text": [
      "참\n"
     ]
    }
   ],
   "source": [
    "if [1, 2, 3 ]:\n",
    "    print(\"참\")\n",
    "else:\n",
    "    print(\"거짓\")"
   ]
  },
  {
   "cell_type": "markdown",
   "id": "e800f6ef",
   "metadata": {},
   "source": [
    "# 변수"
   ]
  },
  {
   "cell_type": "code",
   "execution_count": 263,
   "id": "9ff938bc",
   "metadata": {},
   "outputs": [
    {
     "data": {
      "text/plain": [
       "False"
      ]
     },
     "execution_count": 263,
     "metadata": {},
     "output_type": "execute_result"
    }
   ],
   "source": [
    "# 파이썬에서 변수는 객체를 가리키는 것\n",
    "a = [1, 2, 3]\n",
    "id(a) # 1805478168320\n",
    "\n",
    "# 동일한 주소를 가리키는 변수 - 대입\n",
    "a = [1, 2, 3]\n",
    "b = a\n",
    "a == b # True\n",
    "a is b # True\n",
    "a[1] = 4\n",
    "a # [1, 4, 3]\n",
    "b # [1, 4, 3]\n",
    "\n",
    "# 다른 주소를 가리키는 변수 - 슬라이싱\n",
    "a = [1, 2, 3]\n",
    "b = a[:]\n",
    "a[1] = 4\n",
    "a # [1, 4, 3]\n",
    "b # [1, 2, 3]\n",
    "\n",
    "# 다른 주소를 가리키는 변수 - copy 모듈 이용하기\n",
    "from copy import copy\n",
    "\n",
    "a = [1, 2, 3]\n",
    "b = copy(a)\n",
    "a == b # True\n",
    "a is b # False\n",
    "\n",
    "a = [1, 2, 3]\n",
    "b = a.copy()\n",
    "b == a # True\n",
    "b is a # False\n",
    "\n",
    "# 변수 선언 방법\n",
    "a, b = ('python', 'life')\n",
    "(a, b) = 'python', 'life'\n",
    "[a, b] = ['python', 'life']\n",
    "a = b = 'python'\n",
    "\n",
    "a = 3\n",
    "b = 5\n",
    "a, b = b, a\n",
    "a # 5\n",
    "b # 3\n",
    "\n",
    "# 서로 다른 메모리를 가리키므로 is 연산자 False\n",
    "a = [1, 2 ,3]\n",
    "b = [1, 2, 3]\n",
    "a == b  # True\n",
    "a is b # False"
   ]
  },
  {
   "cell_type": "code",
   "execution_count": null,
   "id": "a622d671",
   "metadata": {},
   "outputs": [],
   "source": []
  }
 ],
 "metadata": {
  "kernelspec": {
   "display_name": "Python 3 (ipykernel)",
   "language": "python",
   "name": "python3"
  },
  "language_info": {
   "codemirror_mode": {
    "name": "ipython",
    "version": 3
   },
   "file_extension": ".py",
   "mimetype": "text/x-python",
   "name": "python",
   "nbconvert_exporter": "python",
   "pygments_lexer": "ipython3",
   "version": "3.11.3"
  }
 },
 "nbformat": 4,
 "nbformat_minor": 5
}
