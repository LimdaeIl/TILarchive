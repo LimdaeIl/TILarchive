{
 "cells": [
  {
   "cell_type": "code",
   "execution_count": 5,
   "id": "c1bc6a3b",
   "metadata": {},
   "outputs": [
    {
     "name": "stdout",
     "output_type": "stream",
     "text": [
      "2\n"
     ]
    }
   ],
   "source": [
    "a = 1\n",
    "def vartest():\n",
    "    global a\n",
    "    a = a + 1\n",
    "\n",
    "vartest()\n",
    "print(a) # 2"
   ]
  },
  {
   "cell_type": "code",
   "execution_count": 6,
   "id": "2d0b4219",
   "metadata": {},
   "outputs": [
    {
     "name": "stdout",
     "output_type": "stream",
     "text": [
      "2\n"
     ]
    }
   ],
   "source": [
    "b = 2\n",
    "def vartests():\n",
    "    b = 3\n",
    "    b = b + 3\n",
    "    \n",
    "vartests()\n",
    "print(b) # 2"
   ]
  },
  {
   "cell_type": "code",
   "execution_count": 14,
   "id": "720ebb3d",
   "metadata": {},
   "outputs": [
    {
     "name": "stdout",
     "output_type": "stream",
     "text": [
      "<function <lambda> at 0x00000214E6256660>\n",
      "3\n"
     ]
    }
   ],
   "source": [
    "a = 1\n",
    "b = 2\n",
    "c = lambda a, b : a + b\n",
    "print(c) # <function <lambda> at 0x00000214E62567A0>\n",
    "print(c(1, 2)) # 3"
   ]
  },
  {
   "cell_type": "code",
   "execution_count": 19,
   "id": "54da3cb6",
   "metadata": {},
   "outputs": [
    {
     "name": "stdout",
     "output_type": "stream",
     "text": [
      "Life is too short\n",
      "Lifeistoo short\n",
      "Lifeistoo short\n",
      "Lifeistoo short\n"
     ]
    }
   ],
   "source": [
    "print(\"Life\", \"is\", \"too short\") # Life is too short\n",
    "print(\"Life\"+\"is\"+\"too short\") # Lifeistoo short\n",
    "print(\"Life\"\"is\"\"too short\") # Lifeistoo short\n",
    "print(\"Life\" \"is\" \"too short\") # Lifeistoo short"
   ]
  },
  {
   "cell_type": "code",
   "execution_count": 17,
   "id": "0686339d",
   "metadata": {},
   "outputs": [
    {
     "name": "stdout",
     "output_type": "stream",
     "text": [
      "Lifeistoo short\n"
     ]
    }
   ],
   "source": [
    "print(\"Life\"+\"is\"+\"too short\")"
   ]
  },
  {
   "cell_type": "code",
   "execution_count": 26,
   "id": "ad471fb6",
   "metadata": {},
   "outputs": [
    {
     "name": "stdout",
     "output_type": "stream",
     "text": [
      "1번째 줄입니다.\n",
      "\n",
      "1번째 줄입니다.\n",
      "\n",
      "2번째 줄입니다.\n",
      "\n",
      "3번째 줄입니다.\n",
      "\n",
      "4번째 줄입니다.\n",
      "\n",
      "5번째 줄입니다.\n",
      "\n",
      "6번째 줄입니다.\n",
      "\n",
      "7번째 줄입니다.\n",
      "\n",
      "8번째 줄입니다.\n",
      "\n",
      "9번째 줄입니다.\n",
      "\n",
      "10번째 줄입니다.\n",
      "\n"
     ]
    }
   ],
   "source": [
    "f = open(\"C:/github/TILarchive/books/JumpToPython/part01/새파일.txt\", 'w')\n",
    "\n",
    "for i in range(1, 11):\n",
    "    data = \"%d번째 줄입니다.\\n\" % i\n",
    "    f.write(data) # data를 파일 객체 f에 써라.\n",
    "f.close()\n",
    "\n",
    "f = open(\"C:/github/TILarchive/books/JumpToPython/part01/새파일.txt\", 'r')\n",
    "\n",
    "line = f.readline()\n",
    "print(line) # 1번째 줄입니다.\n",
    "f.close()\n",
    "\n",
    "f = open(\"C:/github/TILarchive/books/JumpToPython/part01/새파일.txt\", 'r')\n",
    "\n",
    "while True:\n",
    "    line = f.readline()\n",
    "    if not line : break\n",
    "    print(line)\n",
    "f.close()"
   ]
  },
  {
   "cell_type": "code",
   "execution_count": 27,
   "id": "244aebc5",
   "metadata": {},
   "outputs": [
    {
     "name": "stdout",
     "output_type": "stream",
     "text": [
      "1번째 줄입니다.\n",
      "\n",
      "2번째 줄입니다.\n",
      "\n",
      "3번째 줄입니다.\n",
      "\n",
      "4번째 줄입니다.\n",
      "\n",
      "5번째 줄입니다.\n",
      "\n",
      "6번째 줄입니다.\n",
      "\n",
      "7번째 줄입니다.\n",
      "\n",
      "8번째 줄입니다.\n",
      "\n",
      "9번째 줄입니다.\n",
      "\n",
      "10번째 줄입니다.\n",
      "\n"
     ]
    }
   ],
   "source": [
    "f = open(\"C:/github/TILarchive/books/JumpToPython/part01/새파일.txt\", 'r')\n",
    "\n",
    "lines = f.readlines()\n",
    "\n",
    "for line in lines:\n",
    "    print(line)\n",
    "f.close()"
   ]
  },
  {
   "cell_type": "code",
   "execution_count": 28,
   "id": "3a386498",
   "metadata": {},
   "outputs": [
    {
     "name": "stdout",
     "output_type": "stream",
     "text": [
      "1번째 줄입니다.\n",
      "2번째 줄입니다.\n",
      "3번째 줄입니다.\n",
      "4번째 줄입니다.\n",
      "5번째 줄입니다.\n",
      "6번째 줄입니다.\n",
      "7번째 줄입니다.\n",
      "8번째 줄입니다.\n",
      "9번째 줄입니다.\n",
      "10번째 줄입니다.\n",
      "\n"
     ]
    }
   ],
   "source": [
    "f = open(\"C:/github/TILarchive/books/JumpToPython/part01/새파일.txt\", 'r')\n",
    "data = f.read()\n",
    "print(data)\n",
    "f.close()"
   ]
  },
  {
   "cell_type": "code",
   "execution_count": 29,
   "id": "0534c610",
   "metadata": {},
   "outputs": [
    {
     "name": "stdout",
     "output_type": "stream",
     "text": [
      "1번째 줄입니다.\n",
      "\n",
      "2번째 줄입니다.\n",
      "\n",
      "3번째 줄입니다.\n",
      "\n",
      "4번째 줄입니다.\n",
      "\n",
      "5번째 줄입니다.\n",
      "\n",
      "6번째 줄입니다.\n",
      "\n",
      "7번째 줄입니다.\n",
      "\n",
      "8번째 줄입니다.\n",
      "\n",
      "9번째 줄입니다.\n",
      "\n",
      "10번째 줄입니다.\n",
      "\n"
     ]
    }
   ],
   "source": [
    "# 파일 객체를 for문으로 읽기\n",
    "f = open(\"C:/github/TILarchive/books/JumpToPython/part01/새파일.txt\", 'r')\n",
    "for line in f:\n",
    "    print(line)\n",
    "f.close()"
   ]
  },
  {
   "cell_type": "code",
   "execution_count": 32,
   "id": "872c2f45",
   "metadata": {},
   "outputs": [
    {
     "name": "stdout",
     "output_type": "stream",
     "text": [
      "1번째 줄입니다.\n",
      "2번째 줄입니다.\n",
      "3번째 줄입니다.\n",
      "4번째 줄입니다.\n",
      "5번째 줄입니다.\n",
      "6번째 줄입니다.\n",
      "7번째 줄입니다.\n",
      "8번째 줄입니다.\n",
      "9번째 줄입니다.\n",
      "10번째 줄입니다.\n",
      "11번째 줄입니다.\n",
      "12번째 줄입니다.\n",
      "13번째 줄입니다.\n",
      "14번째 줄입니다.\n",
      "15번째 줄입니다.\n",
      "16번째 줄입니다.\n",
      "17번째 줄입니다.\n",
      "18번째 줄입니다.\n",
      "19번째 줄입니다.\n"
     ]
    }
   ],
   "source": [
    "# 줄 바꿈(\\n) 제거하기\n",
    "f = open(\"C:/github/TILarchive/books/JumpToPython/part01/새파일.txt\", 'r')\n",
    "lines = f.readlines()\n",
    "for line in lines:\n",
    "    line = line.strip() # 줄 끝의 줄 바꿈 문자를 제거\n",
    "    print(line)\n",
    "f.close()"
   ]
  },
  {
   "cell_type": "code",
   "execution_count": 31,
   "id": "815e619f",
   "metadata": {},
   "outputs": [],
   "source": [
    "# 파일 내용 추가하기\n",
    "f = open(\"C:/github/TILarchive/books/JumpToPython/part01/새파일.txt\", 'a')\n",
    "for i in range(11, 20):\n",
    "    data = \"%d번째 줄입니다.\\n\" % i\n",
    "    f.write(data)\n",
    "f.close()"
   ]
  },
  {
   "cell_type": "code",
   "execution_count": null,
   "id": "9c8293e8",
   "metadata": {},
   "outputs": [],
   "source": [
    "# with 문 사용 전\n",
    "f = open(\"C:/github/TILarchive/books/JumpToPython/part01/새파일.txt\", 'r')\n",
    "f.write(\"Life is too short, you need python\")\n",
    "f.close()\n",
    "\n",
    "# with 문 사용 \n",
    "with open(\"foo.txt, \"w\") as f:\n",
    "          f.write(\"Life is too short, you need python\")"
   ]
  },
  {
   "cell_type": "code",
   "execution_count": 36,
   "id": "dced833e",
   "metadata": {},
   "outputs": [
    {
     "name": "stdout",
     "output_type": "stream",
     "text": [
      "20 10 75 3.0\n"
     ]
    }
   ],
   "source": [
    "class FourCal():\n",
    "    def setdata(self, first, second):\n",
    "        self.first = first\n",
    "        self.second = second\n",
    "        \n",
    "    def add(self):\n",
    "        result = self.first + self.second\n",
    "        return result\n",
    "\n",
    "    def sub(self):\n",
    "        result = self.first - self.second\n",
    "        return result\n",
    "\n",
    "    def mul(self):\n",
    "        result = self.first * self.second\n",
    "        return result\n",
    "\n",
    "    def div(self):\n",
    "        result = self.first / self.second\n",
    "        return result\n",
    "\n",
    "a = FourCal()\n",
    "a.setdata(15, 5)\n",
    "print(a.add(), a.sub(), a.mul(), a.div())"
   ]
  },
  {
   "cell_type": "code",
   "execution_count": 37,
   "id": "5ca6cab9",
   "metadata": {},
   "outputs": [
    {
     "name": "stdout",
     "output_type": "stream",
     "text": [
      "20 10 75 3.0\n"
     ]
    }
   ],
   "source": [
    "class FourCal():\n",
    "    # FourCal 클래스의 생성자 \n",
    "    def __init__(self, first, second):\n",
    "        self.first = first\n",
    "        self.second = second\n",
    "    \n",
    "    def setdata(self, first, second):\n",
    "        self.first = first\n",
    "        self.second = second\n",
    "        \n",
    "    def add(self):\n",
    "        result = self.first + self.second\n",
    "        return result\n",
    "\n",
    "    def sub(self):\n",
    "        result = self.first - self.second\n",
    "        return result\n",
    "\n",
    "    def mul(self):\n",
    "        result = self.first * self.second\n",
    "        return result\n",
    "\n",
    "    def div(self):\n",
    "        result = self.first / self.second\n",
    "        return result\n",
    "\n",
    "a = FourCal(15, 5)\n",
    "print(a.add(), a.sub(), a.mul(), a.div())"
   ]
  },
  {
   "cell_type": "code",
   "execution_count": 43,
   "id": "64ebfdd1",
   "metadata": {},
   "outputs": [
    {
     "name": "stdout",
     "output_type": "stream",
     "text": [
      "20 10 75 3.0\n"
     ]
    }
   ],
   "source": [
    "# Fourcal 클래스를 상속받는 MoreFourCal 자식 클래스\n",
    "class MoreFourCal(FourCal):\n",
    "    pass\n",
    "\n",
    "a = MoreFourCal(15, 5)\n",
    "print(a.add(), a.sub(), a.mul(), a.div())"
   ]
  },
  {
   "cell_type": "code",
   "execution_count": 46,
   "id": "436d547c",
   "metadata": {},
   "outputs": [
    {
     "name": "stdout",
     "output_type": "stream",
     "text": [
      "15 15 0 0 1\n"
     ]
    }
   ],
   "source": [
    "# Fourcal 클래스를 상속받는 MoreFourCal 자식 클래스\n",
    "class MoreFourCal(FourCal):\n",
    "    def pow(self):\n",
    "        result  = self.first ** self.second\n",
    "        return result\n",
    "    \n",
    "    # FourCal 클래스의 div() 메서드 오버라이딩\n",
    "    def div(self): \n",
    "        if self.second == 0:\n",
    "            return 0\n",
    "        else:\n",
    "            return self.first / self.second\n",
    "    \n",
    "\n",
    "a = MoreFourCal(15, 0)\n",
    "print(a.add(), a.sub(), a.mul(), a.div(), a.pow())"
   ]
  },
  {
   "cell_type": "code",
   "execution_count": 53,
   "id": "e4a1c5a8",
   "metadata": {},
   "outputs": [
    {
     "name": "stdout",
     "output_type": "stream",
     "text": [
      "김\n",
      "김\n",
      "김\n",
      "박\n",
      "박\n"
     ]
    }
   ],
   "source": [
    "class Family:\n",
    "    lastname = \"김\"\n",
    "    \n",
    "Family.lastname # '김'\n",
    "print(Family.lastname) # 김\n",
    "\n",
    "a = Family()\n",
    "b = Family()\n",
    "\n",
    "print(a.lastname) # 김\n",
    "print(b.lastname) # 김\n",
    "\n",
    "Family.lastname = \"박\"\n",
    "print(a.lastname) # 박\n",
    "print(b.lastname) # 박\n"
   ]
  },
  {
   "cell_type": "code",
   "execution_count": 149,
   "id": "bdff4461",
   "metadata": {},
   "outputs": [
    {
     "name": "stdout",
     "output_type": "stream",
     "text": [
      "[1, 2, 6]\n",
      "[1, 2, 6]\n",
      "[1, 2, 6]\n",
      "['python']\n",
      "[2, 4, 6, 8]\n",
      "[2, 4, 6, 8]\n",
      "[2, 4, 6, 8]\n",
      "y\n",
      "h\n",
      "0o42\n",
      "3\n"
     ]
    },
    {
     "data": {
      "text/plain": [
       "[('a', 'd'), ('b', 'e'), ('c', 'f')]"
      ]
     },
     "execution_count": 149,
     "metadata": {},
     "output_type": "execute_result"
    }
   ],
   "source": [
    "# 절대값\n",
    "abs(3) # 3\n",
    "abs(-3) # 3\n",
    "abs(-1.2) # 1.2\n",
    "abs(1.2) # 1.2\n",
    "\n",
    "# 반복 가능한 값 확인\n",
    "all([1, 2, 3]) # True\n",
    "all([1, 2, 3, 0]) # False\n",
    "all([]) # True <-- 인수가 빈 값인 경우에는 True 를 리턴\n",
    "all({}) # True <-- 인수가 빈 값인 경우에는 True 를 리턴\n",
    "\n",
    "# 반복 가능한 값 확인(하나라도 참이면 True)\n",
    "any([1, 2, 3, 0]) # True\n",
    "any([\"\", 0]) # False\n",
    "any([]) # False \n",
    "\n",
    "# 유니코드 숫자를 문자로 리턴\n",
    "chr(97) # 'a'\n",
    "chr(65) # 'A'\n",
    "chr(44032) # '가'\n",
    "\n",
    "# 객체가 지닌 변수 혹은 함수를 출력\n",
    "dir([1, 2, 3]) # ['__add__', '__class__', '__class_getitem__', '__contains__',...]\n",
    "\n",
    "# (나눈 몫, 나머지)\n",
    "divmod(2, 1) # (2, 0)\n",
    "\n",
    "# 순서가 있는 데이터를 인덱스 번호와 함께 출력\n",
    "# for i, name in enumerate(['body', 'foo', 'bar']):\n",
    "#     print(i, name)\n",
    "# 0 body\n",
    "# 1 foo\n",
    "# 2 bar\n",
    "\n",
    "# 문자열로 구성된 표현식을 입력으로 받아 해당 문자열을 실행한 결과값 리턴\n",
    "eval('1 + 2') # 3\n",
    "eval('\"hi\" + \"a\"') # 'hia'\n",
    "eval('divmod(4, 3)') # (1, 1)\n",
    "\n",
    "# 함수 호출에 참인 리턴값을 묶어서 리턴\n",
    "# 양수 출력(일반)\n",
    "def positive(l):\n",
    "    result = []\n",
    "    for i in l:\n",
    "        if i > 0:\n",
    "            result.append(i)\n",
    "    return result\n",
    "\n",
    "print(positive([1, -3, 2, 0, -5, 6])) # [1, 2, 6]\n",
    "\n",
    "# 양수 출력(filter)\n",
    "def positive(x):\n",
    "    return x > 0\n",
    "\n",
    "print(list(filter(positive, [1, -3, 2, 0, -5, 6]))) # [1, 2, 6]\n",
    "\n",
    "# 양수 출력(lambda)\n",
    "print(list(filter(lambda x: x > 0, [1, -3, 2, 0, -5 ,6]))) # [1, 2, 6]\n",
    "\n",
    "# 16진수\n",
    "hex(234) # '0xea'\n",
    "hex(3) # '0x3'\n",
    "\n",
    "# 주소값\n",
    "a = 3\n",
    "id(a) # 140712614531944\n",
    "\n",
    "b = a\n",
    "a is b # True\n",
    "a == b # Ture\n",
    "\n",
    "# 입력\n",
    "# x = input()\n",
    "\n",
    "# 정수\n",
    "int('3') # 3\n",
    "int('11', 4)  # 4진수로 표현된 문자열 11을 10진수로 변환하여 리턴\n",
    "int('1A', 16) # 26\n",
    "\n",
    "# 해당 클래스의 인스턴스인지 확인\n",
    "class Person: pass\n",
    "\n",
    "a = Person()\n",
    "isinstance(a, Person)  # True\n",
    "\n",
    "b = 3\n",
    "isinstance(b, Person) # False\n",
    "\n",
    "# 길이\n",
    "len(\"python\") # 6\n",
    "# len(124) # TypeError: object of type 'int' has no len()\n",
    "\n",
    "# 리스트\n",
    "list(\"python\") # ['p', 'y', 't', 'h', 'o', 'n']\n",
    "list((1, 2, 3)) # [1, 2, 3]\n",
    "print(list({\"python\"})) # ['python']\n",
    "list({\"python\"}) # ['python']\n",
    "\n",
    "# 반복 가능한 데이터를 입력받은 후 함수 적용 결과를 리턴\n",
    "def two_times(numberList):\n",
    "    result = []\n",
    "    for number in numberList:\n",
    "        result.append(number * 2)\n",
    "    return result\n",
    "\n",
    "result = two_times([1, 2, 3, 4])\n",
    "print(result) # [2, 4, 6, 8]\n",
    "\n",
    "# 반복 가능한 데이터를 입력받은 후 함수 적용 결과를 리턴(map)\n",
    "def two_times(x):\n",
    "    return x*2\n",
    "\n",
    "print(list(map(two_times, [1, 2, 3, 4]))) # [2, 4, 6, 8]\n",
    "\n",
    "# 반복 가능한 데이터를 입력받은 후 함수 적용 결과를 리턴(map + lambda)\n",
    "print(list(map(lambda x : x*2, [1, 2, 3, 4]))) # [2, 4, 6, 8]\n",
    "\n",
    "# 최대값\n",
    "max([1, 2, 3]) # 3\n",
    "max(\"python\") # 'y'\n",
    "print(max(\"python\")) # y\n",
    "\n",
    "# 최소값\n",
    "min([1, 2, 3]) # 1\n",
    "min(\"python\") # 'h'\n",
    "print(min(\"python\")) # h\n",
    "\n",
    "# 8진수\n",
    "oct(34) # '0o42'\n",
    "print(oct(34)) # 0o42\n",
    "\n",
    "# 유니코드 숫자값 리턴\n",
    "ord('a') # 97\n",
    "ord('가') # 44032\n",
    "\n",
    "# 제곱\n",
    "pow(2, 4) # 16\n",
    "\n",
    "# 반올림\n",
    "round(4.6) # 5\n",
    "round(4.2) # 4\n",
    "round(4.377, 1) # 4.4\n",
    "round(4.377, 2) # 4.38\n",
    "round(4.377, 3) # 4.377\n",
    "\n",
    "# 정렬\n",
    "sorted([3, 1, 2]) # [1, 2, 3]\n",
    "sorted(['c', 'a', 'b']) # ['a', 'b', 'c']\n",
    "sorted(\"zero\") # ['e', 'o', 'r', 'z']\n",
    "sorted((3, 1, 2)) # [1, 2, 3]\n",
    "\n",
    "# 문자 변환\n",
    "str(3) # '3'\n",
    "print(str(3)) # 3\n",
    "str('hi') # 'hi'\n",
    "\n",
    "# 합\n",
    "sum([1, 2, 3]) # 6\n",
    "sum((1, 2, 3)) # 6\n",
    "\n",
    "#튜플\n",
    "tuple(\"abc\") # ('a', 'b', 'c')\n",
    "tuple([\"abc\"]) # ('abc',)\n",
    "tuple([\"abc\", 1, 2]) # ('abc', 1, 2)\n",
    "tuple((1, 2, 3)) # (1, 2, 3)\n",
    "tuple([1,2,3]) # (1, 2, 3)\n",
    "\n",
    "# 타입\n",
    "type(\"abc\") # str\n",
    "type(2) # int\n",
    "type(1.234) # float\n",
    "\n",
    "# 동일한 개수로 이루어진 데이터들을 묶어서 리턴\n",
    "list(zip([1,2,3], [4,5,6])) # [(1, 4), (2, 5), (3, 6)]\n",
    "list(zip([1,2,3], [4,5,6], [7,8,9])) # [(1, 4, 7), (2, 5, 8), (3, 6, 9)]\n",
    "list(zip(\"abc\", \"def\")) # [('a', 'd'), ('b', 'e'), ('c', 'f')]"
   ]
  },
  {
   "cell_type": "code",
   "execution_count": null,
   "id": "355a4bfc",
   "metadata": {},
   "outputs": [],
   "source": []
  },
  {
   "cell_type": "code",
   "execution_count": null,
   "id": "d2b1bf6f",
   "metadata": {},
   "outputs": [],
   "source": []
  },
  {
   "cell_type": "code",
   "execution_count": null,
   "id": "6bf6575a",
   "metadata": {},
   "outputs": [],
   "source": []
  },
  {
   "cell_type": "code",
   "execution_count": null,
   "id": "5001eaf6",
   "metadata": {},
   "outputs": [],
   "source": []
  },
  {
   "cell_type": "code",
   "execution_count": null,
   "id": "4ff804cc",
   "metadata": {},
   "outputs": [],
   "source": []
  },
  {
   "cell_type": "code",
   "execution_count": null,
   "id": "275f24f0",
   "metadata": {},
   "outputs": [],
   "source": []
  },
  {
   "cell_type": "code",
   "execution_count": null,
   "id": "3ac638cc",
   "metadata": {},
   "outputs": [],
   "source": []
  },
  {
   "cell_type": "code",
   "execution_count": null,
   "id": "1aa468ec",
   "metadata": {},
   "outputs": [],
   "source": []
  }
 ],
 "metadata": {
  "kernelspec": {
   "display_name": "Python 3 (ipykernel)",
   "language": "python",
   "name": "python3"
  },
  "language_info": {
   "codemirror_mode": {
    "name": "ipython",
    "version": 3
   },
   "file_extension": ".py",
   "mimetype": "text/x-python",
   "name": "python",
   "nbconvert_exporter": "python",
   "pygments_lexer": "ipython3",
   "version": "3.11.3"
  }
 },
 "nbformat": 4,
 "nbformat_minor": 5
}
